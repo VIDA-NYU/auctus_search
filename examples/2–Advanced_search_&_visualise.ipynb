{
 "cells": [
  {
   "cell_type": "markdown",
   "metadata": {},
   "source": [
    "# Welcome to Auctus Search! 🎉\n",
    "\n",
    "If you’re familiar with the basics of Auctus Search and want to take your skills further, you’re in the right place! In this notebook, we’ll explore **advanced search techniques** using the `page` and `size` parameters in the `search_datasets` method. We’ll cover two key use cases:\n",
    "\n",
    "- **Retrieve many datasets at once** without pagination.\n",
    "- **Use pagination** for faster retrieval and better control.\n",
    "\n",
    "Let’s dive in and discover how to fine-tune your dataset searches and visualise the results! 🚕\n",
    "\n",
    "---\n",
    "\n",
    "## 🎯 **Goal**\n",
    "\n",
    "In this notebook, you’ll learn:\n",
    "- How to use the `page` and `size` parameters in `search_datasets()`.\n",
    "- Two approaches: retrieving a large number of datasets at once or using pagination for efficiency.\n",
    "- When to choose each approach based on your needs.\n",
    "\n",
    "---\n",
    "\n",
    "**Ready to level up?** Let’s get started!"
   ]
  },
  {
   "cell_type": "markdown",
   "metadata": {},
   "source": [
    "## Step 1: Import the Library\n",
    "\n",
    "We start by importing the `AuctusSearch` class, which provides the functionality to interact with the Auctus API."
   ]
  },
  {
   "cell_type": "code",
   "execution_count": 1,
   "metadata": {},
   "outputs": [],
   "source": [
    "from auctus_search import AuctusSearch"
   ]
  },
  {
   "cell_type": "markdown",
   "metadata": {},
   "source": [
    "## Step 2: Initialise AuctusSearch\n",
    "\n",
    "Next, we create an instance of `AuctusSearch` to perform searches and manage datasets."
   ]
  },
  {
   "cell_type": "code",
   "execution_count": 2,
   "metadata": {},
   "outputs": [],
   "source": [
    "search = AuctusSearch()"
   ]
  },
  {
   "cell_type": "markdown",
   "metadata": {},
   "source": [
    "## Step 3: Understanding `page` and `size` in `search_datasets`\n",
    "\n",
    "When searching for datasets, the `search_datasets` method allows you to control how many results are returned and how they are paginated using two key parameters:\n",
    "\n",
    "- **`size`**: The number of datasets to retrieve per page.\n",
    "- **`page`**: The page number to retrieve (starting from 1).\n",
    "\n",
    "By adjusting these parameters, you can choose between two main approaches:\n",
    "\n",
    "- **Approach 1: Retrieve a large number of datasets at once**:\n",
    "  - Set a high `size` (e.g., 50 or 100) and `page=1` to get many datasets in a single request.\n",
    "  - **Pros**: Fewer API calls, simpler to implement.\n",
    "  - **Cons**: Slower response times for very large `size`, and you might get more data than needed so good luck on the scroll :)\n",
    "\n",
    "- **Approach 2: Use pagination for faster retrieval**:\n",
    "  - Set a smaller `size` (e.g., 10) and use multiple `page` values to retrieve datasets in chunks.\n",
    "  - **Pros**: Faster individual requests, better for browsing or when you don’t need all results at once.\n",
    "  - **Cons**: Requires multiple API calls if you need many datasets.\n",
    "\n",
    "Let’s explore both approaches with examples."
   ]
  },
  {
   "cell_type": "markdown",
   "metadata": {},
   "source": [
    "### Approach 1: Retrieve Many Datasets at Once\n",
    "\n",
    "In this approach, we set a large `size` to retrieve many datasets in one go. This is useful when you want to see a broad range of results without worrying about pagination.\n",
    "\n",
    "**Example**: Retrieve 50 or less (if less than 50 exists) datasets related to \"taxis\" in a single request."
   ]
  },
  {
   "cell_type": "code",
   "execution_count": 3,
   "metadata": {},
   "outputs": [
    {
     "data": {
      "application/vnd.jupyter.widget-view+json": {
       "model_id": "f67ecc410b604f6a9af521d959b20368",
       "version_major": 2,
       "version_minor": 0
      },
      "text/plain": [
       "Output()"
      ]
     },
     "metadata": {},
     "output_type": "display_data"
    }
   ],
   "source": [
    "collection_large = search.search_datasets(search_query=\"taxis\", size=50, page=1)\n",
    "collection_large.display()"
   ]
  },
  {
   "cell_type": "markdown",
   "metadata": {},
   "source": [
    "This will display 50 dataset cards at once. While convenient, keep in mind that requesting a very large `size` might take longer to load. Though, Auctus API is very fast so you should be fine, yet in theory pagination exists for a reason.\n",
    "\n",
    "When you run the above cell, you’ll see a grid of dataset cards, each representing a dataset related to \"taxis\". Each card includes:\n",
    "\n",
    "- **Name**: The name of the dataset.\n",
    "- **Source**: A link to the dataset's source.\n",
    "- **Upload Date**: The date when the dataset was uploaded.\n",
    "- **Description**: A brief overview of the dataset.\n",
    "- **Type**: The primary type (e.g., Spatial, Tabular) and additional types.\n",
    "- **Size**: The number of rows and columns in the dataset.\n",
    "- **Relevancy**: A gauge showing how relevant the dataset is to your search query.\n",
    "\n",
    "You can interact with these cards by clicking \"Select This Dataset\" to choose one for further analysis. This is covered in more detail in other examples."
   ]
  },
  {
   "cell_type": "markdown",
   "metadata": {},
   "source": [
    "### Approach 2: Use Pagination for Faster Retrieval\n",
    "\n",
    "In this approach, we set a smaller `size` and use the `page` parameter to retrieve datasets in smaller, faster chunks. This is ideal when you want to browse through results page by page or when working with limited resources.\n",
    "\n",
    "**Example**: Retrieve 10 datasets per page and display the first two pages."
   ]
  },
  {
   "cell_type": "code",
   "execution_count": 4,
   "metadata": {},
   "outputs": [
    {
     "data": {
      "application/vnd.jupyter.widget-view+json": {
       "model_id": "f67ecc410b604f6a9af521d959b20368",
       "version_major": 2,
       "version_minor": 0
      },
      "text/plain": [
       "Output(outputs=({'output_type': 'display_data', 'data': {'text/plain': \"Label(value='', layout=Layout(margin='…"
      ]
     },
     "metadata": {},
     "output_type": "display_data"
    },
    {
     "data": {
      "application/vnd.jupyter.widget-view+json": {
       "model_id": "f67ecc410b604f6a9af521d959b20368",
       "version_major": 2,
       "version_minor": 0
      },
      "text/plain": [
       "Output(outputs=({'output_type': 'display_data', 'data': {'text/plain': \"Label(value='', layout=Layout(margin='…"
      ]
     },
     "metadata": {},
     "output_type": "display_data"
    }
   ],
   "source": [
    "# Retrieve and display the first page (datasets 1-10)\n",
    "collection_page1 = search.search_datasets(search_query=\"taxis\", size=10, page=1)\n",
    "collection_page1.display()\n",
    "\n",
    "# Retrieve and display the second page (datasets 11-20)\n",
    "collection_page2 = search.search_datasets(search_query=\"taxis\", size=10, page=2)\n",
    "collection_page2.display()"
   ]
  },
  {
   "cell_type": "markdown",
   "metadata": {},
   "source": [
    "Each call to `search_datasets` with a different `page` will fetch a new set of 10 datasets. This allows for quicker responses and easier navigation through large result sets.\n",
    "\n",
    "The visualisation is the same as in Approach 1, but the results are split into smaller pages."
   ]
  },
  {
   "cell_type": "markdown",
   "metadata": {},
   "source": [
    "## Step 4: Choosing the Right Approach\n",
    "\n",
    "- **Use Approach 1 (large `size`)** when:\n",
    "  - You need to see many datasets at once.\n",
    "  - You prefer fewer API calls.\n",
    "  - You’re not concerned about slightly longer load times.\n",
    "\n",
    "- **Use Approach 2 (pagination with smaller `size`)** when:\n",
    "  - You want faster, more responsive searches.\n",
    "  - You’re browsing or exploring datasets gradually.\n",
    "  - You’re working with limited bandwidth or processing power.\n",
    "\n",
    "Both approaches are powerful—choose the one that fits your needs!"
   ]
  },
  {
   "cell_type": "markdown",
   "metadata": {},
   "source": [
    "## Alternative: Displaying Results Immediately\n",
    "\n",
    "You can also display results immediately by setting `display_initial_results=True` in `search_datasets`, regardless of the `page` and `size` settings.\n",
    "\n",
    "**Example**:\n",
    "\n",
    "```python\n",
    "collection = search.search_datasets(search_query=\"taxis\", size=20, page=1, display_initial_results=True)\n",
    "```\n",
    "\n",
    "This combines searching and displaying into one step, which can be handy for quick explorations."
   ]
  },
  {
   "cell_type": "markdown",
   "metadata": {},
   "source": []
  }
 ],
 "metadata": {
  "kernelspec": {
   "display_name": "Python 3 (ipykernel)",
   "language": "python",
   "name": "python3"
  },
  "language_info": {
   "codemirror_mode": {
    "name": "ipython",
    "version": 3
   },
   "file_extension": ".py",
   "mimetype": "text/x-python",
   "name": "python",
   "nbconvert_exporter": "python",
   "pygments_lexer": "ipython3",
   "version": "3.10.12"
  }
 },
 "nbformat": 4,
 "nbformat_minor": 4
}
