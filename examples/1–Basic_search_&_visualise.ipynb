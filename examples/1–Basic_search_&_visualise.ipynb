{
 "cells": [
  {
   "cell_type": "markdown",
   "metadata": {},
   "source": [
    "# Welcome to Auctus Search! 🎉\n",
    "\n",
    "Are you new here and want to learn more about querying datasets from the Auctus API—perhaps about **taxis** or another topic that interests you?  You have landed in the perfect place!  This notebook will show you how to search, and visualise directly into your Jupyter notebook for analysis.  Let us jump in and see what Auctus Search has in store for you! 🚕\n",
    "\n",
    "---\n",
    "\n",
    "## 🎯 **Goal**\n",
    "\n",
    "In this notebook, you’ll learn these key skills:\n",
    "- **Search**: Find datasets using the `.search_datasets()` method.\n",
    "- **Visualise**: Explore your search results interactively with the `.display()` method.\n",
    "\n",
    "---\n",
    "\n",
    "**Ready to begin?** Follow along in this notebook to unlock the full potential of Auctus Search!"
   ]
  },
  {
   "cell_type": "markdown",
   "metadata": {},
   "source": [
    "## Step 1: Import the Library\n",
    "\n",
    "We start by importing the `AuctusSearch` class, which provides the functionality to interact with the Auctus API."
   ]
  },
  {
   "cell_type": "code",
   "execution_count": 6,
   "metadata": {},
   "outputs": [],
   "source": [
    "from auctus_search import AuctusSearch"
   ]
  },
  {
   "cell_type": "markdown",
   "metadata": {},
   "source": [
    "## Step 2: Initialise AuctusSearch\n",
    "\n",
    "Next, we create an instance of `AuctusSearch` to later-on perform searches and manage datasets."
   ]
  },
  {
   "cell_type": "code",
   "execution_count": 7,
   "metadata": {},
   "outputs": [],
   "source": [
    "search = AuctusSearch()"
   ]
  },
  {
   "cell_type": "markdown",
   "metadata": {},
   "source": [
    "## Step 3: Search for Datasets\n",
    "\n",
    "We search for datasets related to \"taxis\" using the `search_datasets` method. The results are stored in a `DatasetCollection` object."
   ]
  },
  {
   "cell_type": "code",
   "execution_count": 8,
   "metadata": {},
   "outputs": [],
   "source": [
    "collection = search.search_datasets(search_query=\"taxis\")"
   ]
  },
  {
   "cell_type": "markdown",
   "metadata": {},
   "source": [
    "## Step 4: Display the Search Results\n",
    "\n",
    "Now, we display the search results interactively using the `.display()` method. This will show a grid of dataset cards that you can explore."
   ]
  },
  {
   "cell_type": "code",
   "execution_count": 9,
   "metadata": {},
   "outputs": [
    {
     "data": {
      "application/vnd.jupyter.widget-view+json": {
       "model_id": "5117e6dbe04946b199cdb677ed47de6a",
       "version_major": 2,
       "version_minor": 0
      },
      "text/plain": [
       "Output()"
      ]
     },
     "metadata": {},
     "output_type": "display_data"
    }
   ],
   "source": [
    "collection.display()"
   ]
  },
  {
   "cell_type": "markdown",
   "metadata": {},
   "source": [
    "When you run the above cell, you will see a grid of dataset cards, each representing a dataset related to \"taxis\". Each card includes:\n",
    "\n",
    "- **Name**: The name of the dataset.\n",
    "- **Source**: A link to the dataset's source.\n",
    "- **Upload Date**: The date when the dataset was uploaded.\n",
    "- **Description**: A brief overview of the dataset.\n",
    "- **Type**: The primary type (e.g., Spatial, Tabular) and additional types.\n",
    "- **Size**: The number of rows and columns in the dataset.\n",
    "- **Relevancy**: A gauge showing how relevant the dataset is to your search query.\n",
    "\n",
    "You can interact with these cards by clicking \"Select This Dataset\" to choose one for further analysis. However, in this example, we will focus on searching and displaying the results."
   ]
  },
  {
   "cell_type": "markdown",
   "metadata": {},
   "source": [
    "## Alternative Approach\n",
    "\n",
    "Alternatively, you can display the search results immediately by setting `display_initial_results=True` in the `search_datasets` method:\n",
    "\n",
    "```python\n",
    "collection = search.search_datasets(search_query=\"taxis\", display_initial_results=True)\n",
    "```\n",
    "\n",
    "This combines the search and display steps into one."
   ]
  }
 ],
 "metadata": {
  "kernelspec": {
   "display_name": "Python 3 (ipykernel)",
   "language": "python",
   "name": "python3"
  },
  "language_info": {
   "codemirror_mode": {
    "name": "ipython",
    "version": 3
   },
   "file_extension": ".py",
   "mimetype": "text/x-python",
   "name": "python",
   "nbconvert_exporter": "python",
   "pygments_lexer": "ipython3",
   "version": "3.10.12"
  }
 },
 "nbformat": 4,
 "nbformat_minor": 4
}
